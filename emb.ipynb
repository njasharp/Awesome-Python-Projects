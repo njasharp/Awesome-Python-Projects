{
  "nbformat": 4,
  "nbformat_minor": 0,
  "metadata": {
    "colab": {
      "provenance": [],
      "authorship_tag": "ABX9TyM3ACraU1ZZTX5hRps5LuCQ",
      "include_colab_link": true
    },
    "kernelspec": {
      "name": "python3",
      "display_name": "Python 3"
    },
    "language_info": {
      "name": "python"
    }
  },
  "cells": [
    {
      "cell_type": "markdown",
      "metadata": {
        "id": "view-in-github",
        "colab_type": "text"
      },
      "source": [
        "<a href=\"https://colab.research.google.com/github/njasharp/Awesome-Python-Projects/blob/master/emb.ipynb\" target=\"_parent\"><img src=\"https://colab.research.google.com/assets/colab-badge.svg\" alt=\"Open In Colab\"/></a>"
      ]
    },
    {
      "cell_type": "code",
      "execution_count": null,
      "metadata": {
        "id": "VmJfmhfc2CcR"
      },
      "outputs": [],
      "source": []
    },
    {
      "cell_type": "markdown",
      "source": [
        "*Introduction to Word Embeddings*"
      ],
      "metadata": {
        "id": "wP9mbj9x2ZNZ"
      }
    },
    {
      "cell_type": "code",
      "source": [
        "corpus = [\n",
        " \"I love machine learning\",\n",
        " \"Machine learning is fascinating\",\n",
        " \"I enjoy learning new things\",\n",
        " \"Embeddings capture semantic meanings\",\n",
        " \"I love coding in Python\"\n",
        "]\n"
      ],
      "metadata": {
        "id": "9zl3PzVT2f34"
      },
      "execution_count": 6,
      "outputs": []
    },
    {
      "cell_type": "code",
      "source": [
        " from collections import defaultdict\n",
        "import numpy as np\n",
        "\n",
        "def tokenize_corpus(corpus):\n",
        "    tokens = [sentence.lower().split() for sentence in corpus]\n",
        "    return tokens\n",
        "\n",
        "def build_vocab(tokens):\n",
        "    vocab = defaultdict(lambda: len(vocab))\n",
        "    for sentence in tokens:\n",
        "        for word in sentence:\n",
        "            vocab[word]\n",
        "    return dict(vocab)\n",
        "\n",
        "# Example corpus\n",
        "corpus = [\n",
        "    \"This is a sample sentence.\",\n",
        "    \"Another sentence for vocabulary building.\",\n",
        "    \"Vocabulary is important in natural language processing.\"\n",
        "]\n",
        "\n",
        "tokens = tokenize_corpus(corpus)\n",
        "vocab = build_vocab(tokens)\n",
        "vocab_size = len(vocab)\n",
        "\n",
        "print(f\"Vocabulary: {vocab}\")\n",
        "print(f\"Vocabulary Size: {vocab_size}\")\n",
        "\n"
      ],
      "metadata": {
        "colab": {
          "base_uri": "https://localhost:8080/"
        },
        "id": "uN6Rw-bJ4zeP",
        "outputId": "d4eecfb3-b925-4d6c-9369-31790fdc7c72"
      },
      "execution_count": 12,
      "outputs": [
        {
          "output_type": "stream",
          "name": "stdout",
          "text": [
            "Vocabulary: {'this': 0, 'is': 1, 'a': 2, 'sample': 3, 'sentence.': 4, 'another': 5, 'sentence': 6, 'for': 7, 'vocabulary': 8, 'building.': 9, 'important': 10, 'in': 11, 'natural': 12, 'language': 13, 'processing.': 14}\n",
            "Vocabulary Size: 15\n"
          ]
        }
      ]
    }
  ]
}